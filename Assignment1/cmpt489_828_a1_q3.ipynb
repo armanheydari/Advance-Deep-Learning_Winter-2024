{
  "nbformat": 4,
  "nbformat_minor": 0,
  "metadata": {
    "colab": {
      "provenance": [],
      "include_colab_link": true
    },
    "kernelspec": {
      "name": "python3",
      "display_name": "Python 3"
    },
    "language_info": {
      "name": "python"
    }
  },
  "cells": [
    {
      "cell_type": "markdown",
      "metadata": {
        "id": "view-in-github",
        "colab_type": "text"
      },
      "source": [
        "<a href=\"https://colab.research.google.com/github/armanheydari/Advance-Deep-Learning_Winter-2024/blob/main/Assignment1/cmpt489_828_a1_q3.ipynb\" target=\"_parent\"><img src=\"https://colab.research.google.com/assets/colab-badge.svg\" alt=\"Open In Colab\"/></a>"
      ]
    },
    {
      "cell_type": "markdown",
      "source": [
        "**CMPT 489/828 Assignment 1**\n",
        "\n",
        "Follow the instructions in this notebook and complete the missing code.\n",
        "\n",
        "**NOTE: Do Not Change Any Provided Code or Given Variable Names!**"
      ],
      "metadata": {
        "id": "HGh9xVJYL_e9"
      }
    },
    {
      "cell_type": "markdown",
      "source": [
        "**Q3**. k-Nearest Neighbors (kNN) (**25 points**)\n",
        "\n",
        "Comment/document your code to show your thought process (**1 points**)"
      ],
      "metadata": {
        "id": "x01b0Y6RMINa"
      }
    },
    {
      "cell_type": "code",
      "source": [
        "import numpy as np\n",
        "import matplotlib.pyplot as plt"
      ],
      "metadata": {
        "id": "KkOd42a4L-D3"
      },
      "execution_count": null,
      "outputs": []
    },
    {
      "cell_type": "markdown",
      "source": [
        "(a). Load dataset (**2 points**)"
      ],
      "metadata": {
        "id": "wVEPGI21M2PH"
      }
    },
    {
      "cell_type": "code",
      "source": [
        "from sklearn import datasets\n",
        "from sklearn.utils import shuffle\n",
        "from sklearn.preprocessing import StandardScaler\n",
        "# load iris dataset, this dataset contains 150 datapoints with 4 features\n",
        "iris = datasets.load_iris()\n",
        "# extract iris data into a numpy array\n",
        "iris_data = iris.data\n",
        "scaler = StandardScaler()\n",
        "scaler.fit(iris_data)\n",
        "iris_data = scaler.transform(iris_data)\n",
        "# extract iris label into a numpy array, labels are integers: 0, 1, 2\n",
        "iris_label = iris.target\n",
        "\n",
        "iris_data, iris_label = shuffle(iris_data, iris_label)\n",
        "\n",
        "print(iris_data.shape, iris_label.shape)\n",
        "\n",
        "###############################################################################\n",
        "# TODO:                                                                       #\n",
        "# 1. Split the iris dataset into train (x_train, y_train) and                 #\n",
        "# test (x_test, y_test) sets using a 80%/20% split                            #\n",
        "# 2. Plot the first and second element of each datapoint in the               #\n",
        "# train set (x_train) in a single scatter plot                                #\n",
        "# Use the scatter() function from matplotlib.pyplot module                    #\n",
        "# Use different colours to represent the corresponding classes from y_train   #\n",
        "# for each datapoint                                                          #\n",
        "###############################################################################\n",
        "# *****BEGIN YOUR CODE (DO NOT DELETE/MODIFY THIS LINE)*****\n",
        "x_train =\n",
        "y_train =\n",
        "\n",
        "x_test =\n",
        "y_test =\n",
        "\n",
        "# *****END OF YOUR CODE (DO NOT DELETE/MODIFY THIS LINE)*****"
      ],
      "metadata": {
        "id": "UrxLHKw_Yduz",
        "colab": {
          "base_uri": "https://localhost:8080/"
        },
        "outputId": "1023d815-2e57-402b-c408-8fffc7bcf14e"
      },
      "execution_count": null,
      "outputs": [
        {
          "output_type": "stream",
          "name": "stdout",
          "text": [
            "(150, 4) (150,)\n"
          ]
        }
      ]
    },
    {
      "cell_type": "markdown",
      "source": [
        "(b). Implement kNN Classifier (**6 points**)"
      ],
      "metadata": {
        "id": "2Q5TokPRZtBX"
      }
    },
    {
      "cell_type": "code",
      "source": [
        "class KNearestNeighbor:\n",
        "    def __init__(self, x, y):\n",
        "        \"\"\"\n",
        "        Initialise the kNN classifier, memorize the input data and label.\n",
        "\n",
        "        Inputs:\n",
        "        - x: A numpy array containing the dataset of shape (num_data, D),\n",
        "        with num_data being the number of datapoints of dimension D\n",
        "        - y: A numpy array containing the labels of shape (num_data,),\n",
        "        y[i] is the label of x[i]\n",
        "        \"\"\"\n",
        "        ########################################################################\n",
        "        # TODO:                                                                #\n",
        "        # Save the data x and label y                                          #\n",
        "        ########################################################################\n",
        "        # *****BEGIN YOUR CODE (DO NOT DELETE/MODIFY THIS LINE)*****\n",
        "        self.data =\n",
        "        self.labels =\n",
        "\n",
        "        # *****END OF YOUR CODE (DO NOT DELETE/MODIFY THIS LINE)*****\n",
        "\n",
        "    @staticmethod\n",
        "    def l1_distance(a, b):\n",
        "        \"\"\"\n",
        "        Calculate the l1 distance between two numpy arrays a and b.\n",
        "        Inputs:\n",
        "        - a: A numpy array\n",
        "        - b: A numpy array\n",
        "\n",
        "        Returns:\n",
        "        -  : The L1 distance between a and b\n",
        "        \"\"\"\n",
        "        ########################################################################\n",
        "        # TODO:                                                                #\n",
        "        # Calculate and return the l1 distance                                 #\n",
        "        ########################################################################\n",
        "        # *****BEGIN YOUR CODE (DO NOT DELETE/MODIFY THIS LINE)*****\n",
        "        dist_l1 =\n",
        "\n",
        "        # *****END OF YOUR CODE (DO NOT DELETE/MODIFY THIS LINE)*****\n",
        "        return dist_l1\n",
        "\n",
        "    @staticmethod\n",
        "    def l2_distance(a, b):\n",
        "        \"\"\"\n",
        "        Calculate the l2 distance between two numpy arrays a and b.\n",
        "        Inputs:\n",
        "        - a: A numpy array\n",
        "        - b: A numpy array\n",
        "\n",
        "        Returns:\n",
        "        -  : The L2 distance between a and b\n",
        "        \"\"\"\n",
        "        ########################################################################\n",
        "        # TODO:                                                                #\n",
        "        # Calculate and return the l2 distance                                 #\n",
        "        ########################################################################\n",
        "        # *****BEGIN YOUR CODE (DO NOT DELETE/MODIFY THIS LINE)*****\n",
        "        dist_l2 =\n",
        "\n",
        "        # *****END OF YOUR CODE (DO NOT DELETE/MODIFY THIS LINE)*****\n",
        "        return dist_l2\n",
        "\n",
        "    @staticmethod\n",
        "    def new_data_rep_l2(a, b):\n",
        "        \"\"\"\n",
        "        Calculate a new representation of image a and b, then return the l2 distance\n",
        "        Inputs:\n",
        "        - a: A numpy array of an image\n",
        "        - b: A numpy array of an image\n",
        "\n",
        "        Returns:\n",
        "        -  : The l2 distance between your representation of a and b\n",
        "        \"\"\"\n",
        "        ########################################################################\n",
        "        # TODO:                                                                #\n",
        "        # The function below is for you to implement your data representation  #\n",
        "        # of an image                                                          #\n",
        "        # Come back to fill in this code when you are at step (e).iii.         #\n",
        "        ########################################################################\n",
        "        # *****BEGIN YOUR CODE (DO NOT DELETE/MODIFY THIS LINE)*****\n",
        "        def new_data_rep(i):\n",
        "            \"\"\"\n",
        "            Create a represenation of image i\n",
        "            Inputs:\n",
        "            - i: A numpy array of an image\n",
        "\n",
        "            Returns:\n",
        "            -  : A numpy array containing the representaion of i\n",
        "            \"\"\"\n",
        "            pass\n",
        "        # *****END OF YOUR CODE (DO NOT DELETE/MODIFY THIS LINE)*****\n",
        "\n",
        "        return KNearestNeighbor.l2_distance(new_data_rep(a), new_data_rep(b))\n",
        "\n",
        "    def predict(self, x, k, dist_type='l1'):\n",
        "        \"\"\"\n",
        "        Given a test point x, predict its class.\n",
        "\n",
        "        Inputs:\n",
        "        - x: A numpy array containing the test datapoint.\n",
        "        - k: k value for kNN, number of nearest neighbors.\n",
        "        - dist_type: use to choose distance functions: l1, l2 and rep_l2.\n",
        "\n",
        "        Returns:\n",
        "        - : The class of datapoint x in integer\n",
        "        \"\"\"\n",
        "        ########################################################################\n",
        "        # TODO:                                                                #\n",
        "        # Use majority vote to decide the class for x                          #\n",
        "        # Accommodate different distance metrics, controlled by (dist_type)    #\n",
        "        ########################################################################\n",
        "        # *****BEGIN YOUR CODE (DO NOT DELETE/MODIFY THIS LINE)*****\n",
        "        pass\n",
        "        # *****END OF YOUR CODE (DO NOT DELETE/MODIFY THIS LINE)*****\n",
        "\n",
        "\n"
      ],
      "metadata": {
        "id": "0GObxbpANOe7"
      },
      "execution_count": null,
      "outputs": []
    },
    {
      "cell_type": "markdown",
      "source": [
        "(c). Hyperparameters tunning (**6 points**)"
      ],
      "metadata": {
        "id": "QJ0jE2-zc4By"
      }
    },
    {
      "cell_type": "markdown",
      "source": [
        "A function to evaluate a set of data is given below.\n",
        "\n",
        "This is used to tune the values of k on the **val** set and evaluate the performance on the **test** set."
      ],
      "metadata": {
        "id": "hfc-Ezk9nLTC"
      }
    },
    {
      "cell_type": "code",
      "source": [
        "# Example of initializing the kNN classifier\n",
        "knn = KNearestNeighbor(x_train, y_train)\n",
        "\n",
        "def evaluate(knn_classifier, x_eval, y_eval, k, dist_type='l1', return_preds=False):\n",
        "    \"\"\"\n",
        "    Use kNN to predict values of x_eval.\n",
        "    Then use the predicted values and y_eval to report classifier performance.\n",
        "    Returns the point-wise accuracy.\n",
        "    The point-wise accuracy is the number of true positives over the total number of data points.\n",
        "\n",
        "    Inputs:\n",
        "        - knn_classifier: Your kNN classifier\n",
        "        - x_eval: A numpy array of shape (num_eval, D) containing the evaluation dataset\n",
        "          consisting of num_eval samples each of dimension D.\n",
        "        - y_eval: A numpy array of shape (num_eval,) containing the evaluation dataset labels, where\n",
        "              y_eval[i] is the label for x_eval[i]\n",
        "        - k: k value for kNN, number of nearest neighbors.\n",
        "        - dist_type: use to choose distance functions: l1, l2 and rep_l2.\n",
        "        - return_preds: set to true to return a list containing the predictions.\n",
        "\n",
        "    Returns:\n",
        "        - : The point-wise accuracy in the range of [0, 1]\n",
        "        - : optional: a list containing the predictions\n",
        "    \"\"\"\n",
        "    preds = np.array([knn_classifier.predict(x, k, dist_type=dist_type) for x in x_eval])\n",
        "    tp = np.sum(preds==y_eval)\n",
        "    if return_preds:\n",
        "      return tp/len(y_eval), preds\n",
        "    return tp/len(y_eval)\n"
      ],
      "metadata": {
        "id": "kNDFolU2nWyj"
      },
      "execution_count": null,
      "outputs": []
    },
    {
      "cell_type": "markdown",
      "source": [
        "Use 5-fold validation to find the best value for k and the best distance metric (among L1 or L2).\n",
        "\n",
        "**HINT**: Plot the performance average over 5 **val** sets for each value of k."
      ],
      "metadata": {
        "id": "Verh8d0snKCQ"
      }
    },
    {
      "cell_type": "code",
      "source": [
        "###############################################################################\n",
        "# TODO:                                                                       #\n",
        "# 1. Perform 5-fold validation using the provided evaluate() function         #\n",
        "# 2. Compare and find the best distance metric (among L1 or L2)               #\n",
        "# 3. Find the optimal k for the best distance metric you found                #\n",
        "# NOTE: Do Not Choose k==1                                                    #\n",
        "###############################################################################\n",
        "# *****BEGIN YOUR CODE (DO NOT DELETE/MODIFY THIS LINE)*****\n",
        "\n",
        "\n",
        "# *****END OF YOUR CODE (DO NOT DELETE/MODIFY THIS LINE)*****"
      ],
      "metadata": {
        "id": "iD7uwDPDdCSi"
      },
      "execution_count": null,
      "outputs": []
    },
    {
      "cell_type": "markdown",
      "source": [
        "Report the performance of your classifier on the **test** set using the best k and best distance metric"
      ],
      "metadata": {
        "id": "JHIQfUR4hOv4"
      }
    },
    {
      "cell_type": "code",
      "source": [
        "###############################################################################\n",
        "# TODO:                                                                       #\n",
        "# 1. Use the provided evaluate() function with your best k and distance metric#\n",
        "# 2. Report the accuracy on the test set                                      #\n",
        "###############################################################################\n",
        "# *****BEGIN YOUR CODE (DO NOT DELETE/MODIFY THIS LINE)*****\n",
        "\n",
        "\n",
        "# *****END OF YOUR CODE (DO NOT DELETE/MODIFY THIS LINE)*****"
      ],
      "metadata": {
        "id": "l_FL5DP3hX9R"
      },
      "execution_count": null,
      "outputs": []
    },
    {
      "cell_type": "markdown",
      "source": [
        "(d). Image dataset (**5 points**)\n",
        "Repeat the above steps for the Image dataset.\n",
        "\n",
        "**NOTE: You are given the train/val/test set split. There is no need to do 5-fold validation here.**"
      ],
      "metadata": {
        "id": "bzbC8v5tr1d4"
      }
    },
    {
      "cell_type": "code",
      "source": [
        "import torchvision\n",
        "\n",
        "\n",
        "# load CIFAR-10 dataset with pytorch\n",
        "\n",
        "trainset = torchvision.datasets.CIFAR10(root='./data', train=True, download=True)\n",
        "testset = torchvision.datasets.CIFAR10(root='./data', train=False, download=True)\n",
        "\n",
        "x_train = trainset.data[:4000]\n",
        "y_train = np.array(trainset.targets)[:4000]\n",
        "\n",
        "x_val = trainset.data[4000:5000]\n",
        "y_val = np.array(trainset.targets)[4000:5000]\n",
        "\n",
        "x_test = testset.data[:500]\n",
        "y_test = np.array(testset.targets)[:500]\n",
        "\n",
        "print(x_train.shape, y_train.shape)\n",
        "print(x_val.shape, y_val.shape)\n",
        "print(x_test.shape, y_test.shape)\n",
        "\n",
        "\n",
        "class_map = {0: 'plane', 1: 'car', 2: 'bird', 3: 'cat', 4: 'deer', 5: 'dog', 6: 'frog', 7: 'horse', 8: 'ship', 9:'truck'}\n",
        "###############################################################################\n",
        "# TODO:                                                                       #\n",
        "# Visualise 1 sample of each class from train set (x_train)                   #\n",
        "###############################################################################\n",
        "# *****BEGIN YOUR CODE (DO NOT DELETE/MODIFY THIS LINE)*****\n",
        "\n",
        "\n",
        "# *****END OF YOUR CODE (DO NOT DELETE/MODIFY THIS LINE)*****\n"
      ],
      "metadata": {
        "id": "xZVdqfuvsKTd",
        "colab": {
          "base_uri": "https://localhost:8080/"
        },
        "outputId": "2eab05ac-6750-4898-da54-75ad4ee284ab"
      },
      "execution_count": null,
      "outputs": [
        {
          "output_type": "stream",
          "name": "stdout",
          "text": [
            "Files already downloaded and verified\n",
            "Files already downloaded and verified\n",
            "(4000, 32, 32, 3) (4000,)\n",
            "(1000, 32, 32, 3) (1000,)\n",
            "(500, 32, 32, 3) (500,)\n"
          ]
        }
      ]
    },
    {
      "cell_type": "code",
      "source": [
        "###############################################################################\n",
        "# TODO:                                                                       #\n",
        "# 1. Initilise kNN classifier                                                 #\n",
        "# 2. Find the best k for l2 distance and                                      #\n",
        "# plot the performance average over the val set for each value of k           #\n",
        "###############################################################################\n",
        "# *****BEGIN YOUR CODE (DO NOT DELETE/MODIFY THIS LINE)*****\n",
        "\n",
        "\n",
        "# *****END OF YOUR CODE (DO NOT DELETE/MODIFY THIS LINE)*****\n"
      ],
      "metadata": {
        "id": "08-U8b-0sfF3"
      },
      "execution_count": null,
      "outputs": []
    },
    {
      "cell_type": "code",
      "source": [
        "##################################################################################\n",
        "# TODO:                                                                          #\n",
        "# 1. Report test set performance with your best k                                #\n",
        "# 2. Visualize the k-nearest neighbors for the first 5 datapoints in the test set#\n",
        "# NOTE: Do Not Choose k==1                                                       #\n",
        "##################################################################################\n",
        "# *****BEGIN YOUR CODE (DO NOT DELETE/MODIFY THIS LINE)*****\n",
        "\n",
        "\n",
        "# *****END OF YOUR CODE (DO NOT DELETE/MODIFY THIS LINE)*****"
      ],
      "metadata": {
        "id": "pNJ8jO9tslfb"
      },
      "execution_count": null,
      "outputs": []
    },
    {
      "cell_type": "markdown",
      "source": [
        "(e). Discussion"
      ],
      "metadata": {
        "id": "dRYoGTqHemDu"
      }
    },
    {
      "cell_type": "markdown",
      "source": [
        "**i**. The L1 and L2 distances when applied on the CIFAR-10 dataset, are measuring the distances between raw pixels.\n",
        "\n",
        "Why is pixel-distance a bad representation of image distance? (**1 point**)"
      ],
      "metadata": {
        "id": "_BI-o7Dfewpj"
      }
    },
    {
      "cell_type": "markdown",
      "source": [
        "// your answers here"
      ],
      "metadata": {
        "id": "gPRyJnM3fQ1j"
      }
    },
    {
      "cell_type": "markdown",
      "source": [
        "**ii**. Look at the misclassified examples from CIFAR-10 you visualized.\n",
        "\n",
        "Take one example and explain why do you think this sample is misclassified? (**1 points**)"
      ],
      "metadata": {
        "id": "f56ZsiQWfZFw"
      }
    },
    {
      "cell_type": "markdown",
      "source": [
        "// your answers here"
      ],
      "metadata": {
        "id": "vsvIv2cFgl1M"
      }
    },
    {
      "cell_type": "markdown",
      "source": [
        "**iii**. Instead of using raw pixels of images as an input to kNN, could you suggest another data representation of the images to be fed as an input to kNN? Does it impact the kNN performance? (**3 points**)\n",
        "\n",
        "**HINT**: An example of data representation for an image is its color histogram.\n",
        "\n",
        "Implement your method and report the performance using the best k you found for l2 distance in step (c) on the **test** set."
      ],
      "metadata": {
        "id": "IgzUTAz6g1Lq"
      }
    },
    {
      "cell_type": "code",
      "source": [
        "###############################################################################\n",
        "# TODO:                                                                       #\n",
        "# 1. Go back to KNearestNeighbor (class defined above) and                    #\n",
        "# implement the function new_data_rep() in section (b) above                  #\n",
        "# 2. Test your representation with the best k you found for l2 distance       #\n",
        "# using the evaluate() function provided above                                #\n",
        "# 3. Does the new representation yield better or worse performance?           #\n",
        "###############################################################################\n",
        "# *****BEGIN YOUR CODE (DO NOT DELETE/MODIFY THIS LINE)*****\n",
        "\n",
        "\n",
        "# *****END OF YOUR CODE (DO NOT DELETE/MODIFY THIS LINE)*****"
      ],
      "metadata": {
        "id": "ovbZbG0KiM8M"
      },
      "execution_count": null,
      "outputs": []
    }
  ]
}
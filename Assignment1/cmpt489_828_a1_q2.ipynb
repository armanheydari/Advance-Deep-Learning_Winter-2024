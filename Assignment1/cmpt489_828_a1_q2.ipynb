{
  "nbformat": 4,
  "nbformat_minor": 0,
  "metadata": {
    "colab": {
      "provenance": [],
      "include_colab_link": true
    },
    "kernelspec": {
      "name": "python3",
      "display_name": "Python 3"
    },
    "language_info": {
      "name": "python"
    }
  },
  "cells": [
    {
      "cell_type": "markdown",
      "metadata": {
        "id": "view-in-github",
        "colab_type": "text"
      },
      "source": [
        "<a href=\"https://colab.research.google.com/github/armanheydari/Advance-Deep-Learning_Winter-2024/blob/main/Assignment1/cmpt489_828_a1_q2.ipynb\" target=\"_parent\"><img src=\"https://colab.research.google.com/assets/colab-badge.svg\" alt=\"Open In Colab\"/></a>"
      ]
    },
    {
      "cell_type": "markdown",
      "source": [
        "**CMPT 489/828 Assignment 1**\n",
        "\n",
        "Follow the instructions in this notebook and complete the missing code.\n",
        "\n",
        "**NOTE: Do Not Change Any Provided Code or Given Variable Names!**"
      ],
      "metadata": {
        "id": "HGh9xVJYL_e9"
      }
    },
    {
      "cell_type": "markdown",
      "source": [
        "**Q2**. Numpy and Linear Algebra (**15 points**)\n",
        "\n",
        "Comment/document your code to show your thought process (**1 points**)"
      ],
      "metadata": {
        "id": "x01b0Y6RMINa"
      }
    },
    {
      "cell_type": "code",
      "source": [
        "import numpy as np\n",
        "# create random generator with set seed, do not change this line!\n",
        "rng_generator = np.random.default_rng(seed=489)"
      ],
      "metadata": {
        "id": "KkOd42a4L-D3"
      },
      "execution_count": 50,
      "outputs": []
    },
    {
      "cell_type": "markdown",
      "source": [
        "(a). Basic matrix operations (**6 points**)"
      ],
      "metadata": {
        "id": "wVEPGI21M2PH"
      }
    },
    {
      "cell_type": "code",
      "source": [
        "###############################################################################\n",
        "# TODO:                                                                       #\n",
        "# 1. Use rng_generator to create a random array m of floats of size (8, 5, 3) #\n",
        "# this can be done with the random() method                                   #\n",
        "# 2. Then print the shape of the generated array                              #\n",
        "###############################################################################\n",
        "# *****BEGIN YOUR CODE (DO NOT DELETE/MODIFY THIS LINE)*****\n",
        "# Create the random matrix using the random() method\n",
        "m = rng_generator.random((8, 5, 3))\n",
        "# Print the shape of the constructed array\n",
        "m.shape\n",
        "# *****END OF YOUR CODE (DO NOT DELETE/MODIFY THIS LINE)*****"
      ],
      "metadata": {
        "id": "0GObxbpANOe7",
        "colab": {
          "base_uri": "https://localhost:8080/"
        },
        "outputId": "69631905-6eb0-46b4-8403-47d8d446f17e"
      },
      "execution_count": 51,
      "outputs": [
        {
          "output_type": "execute_result",
          "data": {
            "text/plain": [
              "(8, 5, 3)"
            ]
          },
          "metadata": {},
          "execution_count": 51
        }
      ]
    },
    {
      "cell_type": "code",
      "source": [
        "###############################################################################\n",
        "# TODO:                                                                       #\n",
        "# 1. Find the sum (m_sum), minimum (m_min), and maximum (m_max) value of      #\n",
        "# the generated array.                                                        #\n",
        "# 2. Print them                                                               #\n",
        "###############################################################################\n",
        "# *****BEGIN YOUR CODE (DO NOT DELETE/MODIFY THIS LINE)*****\n",
        "# With numpy built-in methods we can easily do most of the matrix operations\n",
        "# Compute sum using the numpy built-in method\n",
        "m_sum = np.sum(m)\n",
        "# Compute minimum using the numpy built-in method\n",
        "m_min = np.min(m)\n",
        "# Compute maximum using the numpy built-in method\n",
        "m_max = np.max(m)\n",
        "# Print the computed values\n",
        "print('sum:', m_sum,'\\nmin:', m_min, '\\nmax:', m_max)\n",
        "\n",
        "# *****END OF YOUR CODE (DO NOT DELETE/MODIFY THIS LINE)*****"
      ],
      "metadata": {
        "id": "nWr80xNX4kIU",
        "colab": {
          "base_uri": "https://localhost:8080/"
        },
        "outputId": "a8f4d445-0e7e-4d36-e4f6-40106fc52f7d"
      },
      "execution_count": 52,
      "outputs": [
        {
          "output_type": "stream",
          "name": "stdout",
          "text": [
            "sum: 55.16258809955693 \n",
            "min: 0.02060448233790091 \n",
            "max: 0.9859414452501872\n"
          ]
        }
      ]
    },
    {
      "cell_type": "code",
      "source": [
        "###############################################################################\n",
        "# TODO:                                                                       #\n",
        "# 1. Transpose the generated array m to m_t of size (3, 8, 5)                 #\n",
        "# 2. Print the transposed array's shape                                       #\n",
        "###############################################################################\n",
        "# *****BEGIN YOUR CODE (DO NOT DELETE/MODIFY THIS LINE)*****\n",
        "# We should specify the order of axes in the transposed matrix\n",
        "m_t = np.transpose(m,(2,0,1))\n",
        "# Print the result's shape\n",
        "m_t.shape\n",
        "# *****END OF YOUR CODE (DO NOT DELETE/MODIFY THIS LINE)*****"
      ],
      "metadata": {
        "id": "biU_k25K484L",
        "colab": {
          "base_uri": "https://localhost:8080/"
        },
        "outputId": "c673e56c-adc5-41d8-8367-8ec80d2ee9dc"
      },
      "execution_count": 53,
      "outputs": [
        {
          "output_type": "execute_result",
          "data": {
            "text/plain": [
              "(3, 8, 5)"
            ]
          },
          "metadata": {},
          "execution_count": 53
        }
      ]
    },
    {
      "cell_type": "code",
      "source": [
        "###############################################################################\n",
        "# TODO:                                                                       #\n",
        "# 1. Create a second random float array n of size (3, 5, 2)                   #\n",
        "# 2. Then perform matrix multiplication, h = m_t * n                          #\n",
        "# 3. Print the shape of result h                                              #\n",
        "###############################################################################\n",
        "# *****BEGIN YOUR CODE (DO NOT DELETE/MODIFY THIS LINE)*****\n",
        "# Generate a new random float array\n",
        "n = rng_generator.random((3, 5, 2))\n",
        "# Using the built-in method for matrix multiplication of numpy arrays\n",
        "h = np.matmul(m_t,n)\n",
        "# Print the result's shape\n",
        "h.shape\n",
        "# *****END OF YOUR CODE (DO NOT DELETE/MODIFY THIS LINE)*****"
      ],
      "metadata": {
        "id": "PJpxZQphQruX",
        "colab": {
          "base_uri": "https://localhost:8080/"
        },
        "outputId": "5cc916ad-ec2e-408f-a5eb-efbe572cdf6a"
      },
      "execution_count": 54,
      "outputs": [
        {
          "output_type": "execute_result",
          "data": {
            "text/plain": [
              "(3, 8, 2)"
            ]
          },
          "metadata": {},
          "execution_count": 54
        }
      ]
    },
    {
      "cell_type": "markdown",
      "source": [
        "(b). L1 and L2 distances (**3 points**)"
      ],
      "metadata": {
        "id": "Rqxgd9PYTJ2y"
      }
    },
    {
      "cell_type": "code",
      "source": [
        "###############################################################################\n",
        "# TODO:                                                                       #\n",
        "# 1. Create a third random float array k of size (3, 8, 5)                    #\n",
        "# 2. Calculate L1 and L2 Distance between m_t and k                           #\n",
        "# 3. Print the results                                                        #\n",
        "###############################################################################\n",
        "# *****BEGIN YOUR CODE (DO NOT DELETE/MODIFY THIS LINE)*****\n",
        "# Create a third random float array k\n",
        "k = rng_generator.random((3,8,5))\n",
        "# L1 distance is the sum of all absolute distances\n",
        "l1 = np.sum(np.abs(m_t - k))\n",
        "# Calculate L2, ord specifies the power so should be 2 this time\n",
        "l2 = np.sum(np.square(m_t - k))\n",
        "# Print the results' values\n",
        "print('l1 distance:', l1, '\\nl2 distance:', l2)\n",
        "# *****END OF YOUR CODE (DO NOT DELETE/MODIFY THIS LINE)*****"
      ],
      "metadata": {
        "id": "JSLAloMLSrK5",
        "colab": {
          "base_uri": "https://localhost:8080/"
        },
        "outputId": "fe9edd0e-7c79-4a4e-ff4d-1bd4ac42f48c"
      },
      "execution_count": 55,
      "outputs": [
        {
          "output_type": "stream",
          "name": "stdout",
          "text": [
            "l1 distance: 40.64335255351271 \n",
            "l2 distance: 21.336832447622548\n"
          ]
        }
      ]
    },
    {
      "cell_type": "markdown",
      "source": [
        "(c). Linear Algebra (**5 points**)"
      ],
      "metadata": {
        "id": "yJ-z-GMZV2xE"
      }
    },
    {
      "cell_type": "markdown",
      "source": [
        "Solve the given system of linear equations.\n",
        "\\begin{align}\n",
        "x_{0}+2x_{1}\\qquad = 1\n",
        "\\end{align}\n",
        "\\begin{align}\n",
        "3x_{0}+2x_{1}+4x_{2} = 7\n",
        "\\end{align}\n",
        "\\begin{align}\n",
        "-2x_{0}+x_{1}-2x_{2} = -1\n",
        "\\end{align}\n",
        "\n",
        "\n",
        "HINT: AX = B, solve for X where\n",
        "\n",
        "\\begin{align}\n",
        "X = [x_{0}, x_{1}, x_{2}]^{T}\n",
        "\\end{align}\n"
      ],
      "metadata": {
        "id": "VWGfBQ_-nWAf"
      }
    },
    {
      "cell_type": "code",
      "source": [
        "from numpy.linalg import inv\n",
        "###############################################################################\n",
        "# TODO:                                                                       #\n",
        "# 1. Solve for X                                                              #\n",
        "# 2. Print the result                                                         #\n",
        "###############################################################################\n",
        "# *****BEGIN YOUR CODE (DO NOT DELETE/MODIFY THIS LINE)*****\n",
        "# We know AX=B, First we should set the values of A and B\n",
        "A = np.array([[1,2,0],[3,2,4],[-2,1,-2]])\n",
        "B = np.array([1,7,-1])\n",
        "# A^(-1)*A*X = A^(-1)*B, So X = A^(-1)*B. We calculate the A^(-1) here\n",
        "inverse_A = inv(A)\n",
        "# Now, we can calculate the multiply of A^(-1) and B\n",
        "X = np.matmul(inverse_A, B)\n",
        "# Print the solution\n",
        "print('X=', X, ' so, here are the answers:')\n",
        "print('X0=',round(X[0],2),'\\tX1=', round(X[1],2),'\\tX2=',round(X[2],2))\n",
        "# *****END OF YOUR CODE (DO NOT DELETE/MODIFY THIS LINE)*****"
      ],
      "metadata": {
        "id": "9poKj8fCV9OR",
        "colab": {
          "base_uri": "https://localhost:8080/"
        },
        "outputId": "8b42c71a-e519-452a-d2c0-f7434530c788"
      },
      "execution_count": 56,
      "outputs": [
        {
          "output_type": "stream",
          "name": "stdout",
          "text": [
            "X= [-1.  1.  2.]  so, here are the answers:\n",
            "X0= -1.0 \tX1= 1.0 \tX2= 2.0\n"
          ]
        }
      ]
    }
  ]
}
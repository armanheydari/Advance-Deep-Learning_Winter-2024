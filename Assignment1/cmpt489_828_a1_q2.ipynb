{
  "nbformat": 4,
  "nbformat_minor": 0,
  "metadata": {
    "colab": {
      "provenance": [],
      "include_colab_link": true
    },
    "kernelspec": {
      "name": "python3",
      "display_name": "Python 3"
    },
    "language_info": {
      "name": "python"
    }
  },
  "cells": [
    {
      "cell_type": "markdown",
      "metadata": {
        "id": "view-in-github",
        "colab_type": "text"
      },
      "source": [
        "<a href=\"https://colab.research.google.com/github/armanheydari/Advance-Deep-Learning_Winter-2024/blob/main/Assignment1/cmpt489_828_a1_q2.ipynb\" target=\"_parent\"><img src=\"https://colab.research.google.com/assets/colab-badge.svg\" alt=\"Open In Colab\"/></a>"
      ]
    },
    {
      "cell_type": "markdown",
      "source": [
        "**CMPT 489/828 Assignment 1**\n",
        "\n",
        "Follow the instructions in this notebook and complete the missing code.\n",
        "\n",
        "**NOTE: Do Not Change Any Provided Code or Given Variable Names!**"
      ],
      "metadata": {
        "id": "HGh9xVJYL_e9"
      }
    },
    {
      "cell_type": "markdown",
      "source": [
        "**Q2**. Numpy and Linear Algebra (**15 points**)\n",
        "\n",
        "Comment/document your code to show your thought process (**1 points**)"
      ],
      "metadata": {
        "id": "x01b0Y6RMINa"
      }
    },
    {
      "cell_type": "code",
      "source": [
        "import numpy as np\n",
        "# create random generator with set seed, do not change this line!\n",
        "rng_generator = np.random.default_rng(seed=489)"
      ],
      "metadata": {
        "id": "KkOd42a4L-D3"
      },
      "execution_count": null,
      "outputs": []
    },
    {
      "cell_type": "markdown",
      "source": [
        "(a). Basic matrix operations (**6 points**)"
      ],
      "metadata": {
        "id": "wVEPGI21M2PH"
      }
    },
    {
      "cell_type": "code",
      "source": [
        "###############################################################################\n",
        "# TODO:                                                                       #\n",
        "# 1. Use rng_generator to create a random array m of floats of size (8, 5, 3) #\n",
        "# this can be done with the random() method                                   #\n",
        "# 2. Then print the shape of the generated array                              #\n",
        "###############################################################################\n",
        "# *****BEGIN YOUR CODE (DO NOT DELETE/MODIFY THIS LINE)*****\n",
        "m =\n",
        "\n",
        "# *****END OF YOUR CODE (DO NOT DELETE/MODIFY THIS LINE)*****"
      ],
      "metadata": {
        "id": "0GObxbpANOe7"
      },
      "execution_count": null,
      "outputs": []
    },
    {
      "cell_type": "code",
      "source": [
        "###############################################################################\n",
        "# TODO:                                                                       #\n",
        "# 1. Find the sum (m_sum), minimum (m_min), and maximum (m_max) value of      #\n",
        "# the generated array.                                                        #\n",
        "# 2. Print them                                                               #\n",
        "###############################################################################\n",
        "# *****BEGIN YOUR CODE (DO NOT DELETE/MODIFY THIS LINE)*****\n",
        "m_sum =\n",
        "\n",
        "m_min =\n",
        "\n",
        "m_max =\n",
        "\n",
        "# *****END OF YOUR CODE (DO NOT DELETE/MODIFY THIS LINE)*****"
      ],
      "metadata": {
        "id": "nWr80xNX4kIU"
      },
      "execution_count": null,
      "outputs": []
    },
    {
      "cell_type": "code",
      "source": [
        "###############################################################################\n",
        "# TODO:                                                                       #\n",
        "# 1. Transpose the generated array m to m_t of size (3, 8, 5)                 #\n",
        "# 2. Print the transposed array's shape                                       #\n",
        "###############################################################################\n",
        "# *****BEGIN YOUR CODE (DO NOT DELETE/MODIFY THIS LINE)*****\n",
        "m_t =\n",
        "\n",
        "# *****END OF YOUR CODE (DO NOT DELETE/MODIFY THIS LINE)*****"
      ],
      "metadata": {
        "id": "biU_k25K484L"
      },
      "execution_count": null,
      "outputs": []
    },
    {
      "cell_type": "code",
      "source": [
        "###############################################################################\n",
        "# TODO:                                                                       #\n",
        "# 1. Create a second random float array n of size (3, 5, 2)                   #\n",
        "# 2. Then perform matrix multiplication, h = m_t * n                          #\n",
        "# 3. Print the shape of result h                                              #\n",
        "###############################################################################\n",
        "# *****BEGIN YOUR CODE (DO NOT DELETE/MODIFY THIS LINE)*****\n",
        "n =\n",
        "\n",
        "h =\n",
        "\n",
        "# *****END OF YOUR CODE (DO NOT DELETE/MODIFY THIS LINE)*****"
      ],
      "metadata": {
        "id": "PJpxZQphQruX"
      },
      "execution_count": null,
      "outputs": []
    },
    {
      "cell_type": "markdown",
      "source": [
        "(b). L1 and L2 distances (**3 points**)"
      ],
      "metadata": {
        "id": "Rqxgd9PYTJ2y"
      }
    },
    {
      "cell_type": "code",
      "source": [
        "###############################################################################\n",
        "# TODO:                                                                       #\n",
        "# 1. Create a third random float array k of size (3, 8, 5)                    #\n",
        "# 2. Calculate L1 and L2 Distance between m_t and k                           #\n",
        "# 3. Print the results                                                        #\n",
        "###############################################################################\n",
        "# *****BEGIN YOUR CODE (DO NOT DELETE/MODIFY THIS LINE)*****\n",
        "k =\n",
        "\n",
        "l1 =\n",
        "\n",
        "l2 =\n",
        "\n",
        "# *****END OF YOUR CODE (DO NOT DELETE/MODIFY THIS LINE)*****"
      ],
      "metadata": {
        "id": "JSLAloMLSrK5"
      },
      "execution_count": null,
      "outputs": []
    },
    {
      "cell_type": "markdown",
      "source": [
        "(c). Linear Algebra (**5 points**)"
      ],
      "metadata": {
        "id": "yJ-z-GMZV2xE"
      }
    },
    {
      "cell_type": "markdown",
      "source": [
        "Solve the given system of linear equations.\n",
        "\\begin{align}\n",
        "x_{0}+2x_{1}\\qquad = 1\n",
        "\\end{align}\n",
        "\\begin{align}\n",
        "3x_{0}+2x_{1}+4x_{2} = 7\n",
        "\\end{align}\n",
        "\\begin{align}\n",
        "-2x_{0}+x_{1}-2x_{2} = -1\n",
        "\\end{align}\n",
        "\n",
        "\n",
        "HINT: AX = B, solve for X where\n",
        "\n",
        "\\begin{align}\n",
        "X = [x_{0}, x_{1}, x_{2}]^{T}\n",
        "\\end{align}\n"
      ],
      "metadata": {
        "id": "VWGfBQ_-nWAf"
      }
    },
    {
      "cell_type": "code",
      "source": [
        "from numpy.linalg import inv\n",
        "###############################################################################\n",
        "# TODO:                                                                       #\n",
        "# 1. Solve for X                                                              #\n",
        "# 2. Print the result                                                         #\n",
        "###############################################################################\n",
        "# *****BEGIN YOUR CODE (DO NOT DELETE/MODIFY THIS LINE)*****\n",
        "\n",
        "\n",
        "# *****END OF YOUR CODE (DO NOT DELETE/MODIFY THIS LINE)*****"
      ],
      "metadata": {
        "id": "9poKj8fCV9OR"
      },
      "execution_count": null,
      "outputs": []
    }
  ]
}
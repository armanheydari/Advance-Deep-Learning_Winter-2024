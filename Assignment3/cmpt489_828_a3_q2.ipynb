{
  "nbformat": 4,
  "nbformat_minor": 0,
  "metadata": {
    "colab": {
      "provenance": [],
      "gpuType": "T4",
      "include_colab_link": true
    },
    "kernelspec": {
      "name": "python3",
      "display_name": "Python 3"
    },
    "language_info": {
      "name": "python"
    },
    "accelerator": "GPU"
  },
  "cells": [
    {
      "cell_type": "markdown",
      "metadata": {
        "id": "view-in-github",
        "colab_type": "text"
      },
      "source": [
        "<a href=\"https://colab.research.google.com/github/armanheydari/Advance-Deep-Learning_Winter-2024/blob/main/Assignment3/cmpt489_828_a3_q2.ipynb\" target=\"_parent\"><img src=\"https://colab.research.google.com/assets/colab-badge.svg\" alt=\"Open In Colab\"/></a>"
      ]
    },
    {
      "cell_type": "markdown",
      "source": [
        "**CMPT 489/828 Assignment 3**\n",
        "\n",
        "Follow the instructions in this notebook and complete the missing code.\n",
        "\n",
        "**NOTE: Do Not Change Any Provided Code or Given Variable Names!**\n"
      ],
      "metadata": {
        "id": "HGh9xVJYL_e9"
      }
    },
    {
      "cell_type": "markdown",
      "source": [
        "Feel free to reuse any code from previous assignments.\n",
        "\n",
        "Use torch.nn module to implement your network.\n",
        "\n",
        "Use the validation set to find the best hyperparameters."
      ],
      "metadata": {
        "id": "0ryUY0YJ1Y7P"
      }
    },
    {
      "cell_type": "code",
      "source": [
        "# TODO: your imports\n",
        "import torch\n",
        "from torch import nn\n",
        "from torch.nn import functional as F\n",
        "import torchvision\n",
        "from torchvision import transforms\n",
        "import torchvision.models as models\n",
        "from torchvision.models import ResNet18_Weights\n",
        "\n",
        "# select gpu if possible\n",
        "device = torch.device(\"cuda:0\" if torch.cuda.is_available() else \"cpu\")\n",
        "print(device)"
      ],
      "metadata": {
        "id": "a7hjABHqp0XL"
      },
      "execution_count": null,
      "outputs": []
    },
    {
      "cell_type": "code",
      "source": [
        "def create_data_loader(batch_size):\n",
        "  # TODO: create your data loader, use entire CIFAR-10\n",
        "  # Split the provided CIFAR-10 train set (50,000 images) into your train and val sets\n",
        "  # Use the first 40,000 images as your train set and the remaining 10,000 images as val set\n",
        "  # Use all 10,000 images in the provided test set as your test set\n",
        "\n",
        "  train_id = list(range(40000))\n",
        "  val_id = list(range(40000, 50000))\n",
        "  test_id = list(range(10000))\n",
        "\n",
        "  # convert to tensor, normalize\n",
        "  transform = transforms.Compose([\n",
        "      transforms.ToTensor(),\n",
        "      transforms.Normalize((0.4914, 0.4822, 0.4465), (0.2470, 0.2435, 0.2616)),\n",
        "  ])\n",
        "  # load CIFAR-10 dataset with pytorch\n",
        "  trainset = torchvision.datasets.CIFAR10(root='./data', train=True, download=True, transform=transform)\n",
        "  testset = torchvision.datasets.CIFAR10(root='./data', train=False, download=True, transform=transform)\n",
        "\n",
        "  # subset dataset and create dataloader with batch_size\n",
        "  train_sub_set = torch.utils.data.Subset(trainset, train_id)\n",
        "  val_sub_set = torch.utils.data.Subset(trainset, val_id)\n",
        "  test_sub_set = torch.utils.data.Subset(testset, test_id)\n",
        "\n",
        "  train_loader = torch.utils.data.DataLoader(train_sub_set, batch_size=batch_size, shuffle=True)\n",
        "  val_loader = torch.utils.data.DataLoader(val_sub_set, batch_size=batch_size, shuffle=True)\n",
        "  test_loader = torch.utils.data.DataLoader(test_sub_set, batch_size=batch_size, shuffle=True)\n",
        "\n",
        "  return train_loader, val_loader, test_loader"
      ],
      "metadata": {
        "id": "VUlYcV55p9vo"
      },
      "execution_count": null,
      "outputs": []
    },
    {
      "cell_type": "code",
      "source": [
        "class ResidualBlock(nn.Module):\n",
        "  # TODO: implement a residual block with skip connection\n",
        ""
      ],
      "metadata": {
        "id": "0qBMXckQsxVf"
      },
      "execution_count": null,
      "outputs": []
    },
    {
      "cell_type": "code",
      "source": [
        "class ResNet(nn.Module):\n",
        "  # TODO: implement a ResNet with num_block residual blocks\n",
        "  def __init__(self, num_block)\n",
        "\n"
      ],
      "metadata": {
        "id": "tmx55UqDqklc"
      },
      "execution_count": null,
      "outputs": []
    },
    {
      "cell_type": "code",
      "source": [
        "def init_train_var(model):\n",
        "  # TODO: create your criterion, optimizer (use SGD)\n",
        "  criterion = nn.CrossEntropyLoss()\n",
        "  optimizer = torch.optim.SGD(model.parameters())\n",
        "  return criterion, optimizer"
      ],
      "metadata": {
        "id": "8SDhH-fZrvvu"
      },
      "execution_count": null,
      "outputs": []
    },
    {
      "cell_type": "code",
      "source": [
        "def train(train_loader, val_loader, batch_size):\n",
        "  # TODO: implement your training loop, save your best model at the end\n",
        "  model = ResNet(4)\n",
        "  criterion, optimizer = init_train_var(model)\n",
        "\n",
        "  epochs = 100\n",
        "  val_accuracy = 0\n",
        "  for epoch in range(epochs):\n",
        "    model.train()\n",
        "    train_correct, val_correct = 0, 0\n",
        "    for x, y in train_loader:\n",
        "      x = x.to(device)\n",
        "      y = y.to(device)\n",
        "      optimizer.zero_grad()\n",
        "      prediction = model.forward(x)\n",
        "      loss = criterion(prediction, y)\n",
        "      loss.backward()\n",
        "      optimizer.step()\n",
        "      train_correct += (prediction.argmax(1) == y).type(torch.float).sum().item()\n",
        "\n",
        "    # switch off autograd for validation\n",
        "    with torch.no_grad():\n",
        "      # set the model in evaluation mode\n",
        "      model.eval()\n",
        "      for x, y in val_loader:\n",
        "        x = x.to(device)\n",
        "        y = y.to(device)\n",
        "        prediction = model.forward(x)\n",
        "        val_correct += (prediction.argmax(1) == y).type(torch.float).sum().item()\n",
        "    # calculate the training and validation accuracy\n",
        "    train_accuracy = train_correct / len(train_loader.dataset)\n",
        "    val_accuracy_new = val_correct / len(val_loader.dataset)\n",
        "    print(f'In epoch {epoch+1} the training accuracy is {train_accuracy} and the validation accuracy is {val_accuracy_new}')\n",
        "    if val_accuracy>val_accuracy_new:\n",
        "      # Save entire model\n",
        "      model_path = 'Resnet18_Cifar10_Arman.pth'\n",
        "      torch.save(model, model_path)\n",
        "      break\n",
        "    val_accuracy = val_accuracy_new\n",
        "  return model_path"
      ],
      "metadata": {
        "id": "HzI9mvfJrA_1"
      },
      "execution_count": null,
      "outputs": []
    },
    {
      "cell_type": "code",
      "source": [
        "def test(model_path, test_loader):\n",
        "  # TODO: test function for your trained model , load your best model\n",
        "  model = torch.load(model_path)\n",
        "  # switch off autograd for validation\n",
        "  with torch.no_grad():\n",
        "    # set the model in evaluation mode\n",
        "    model.eval()\n",
        "    test_correct = 0\n",
        "    for x, y in test_loader:\n",
        "      x = x.to(device)\n",
        "      y = y.to(device)\n",
        "      prediction = model.forward(x)\n",
        "      test_correct += (prediction.argmax(1) == y).type(torch.float).sum().item()\n",
        "  # calculate the training and validation accuracy\n",
        "  test_accuracy = test_correct / len(test_loader.dataset)\n",
        "  print(f\"model's test accuracy is {test_accuracy}\")"
      ],
      "metadata": {
        "id": "u_lAiVjVreOO"
      },
      "execution_count": null,
      "outputs": []
    },
    {
      "cell_type": "code",
      "source": [
        "# TODO: train your model and save the best model\n",
        "batch_size = 100\n",
        "train_loader, val_loader, test_loader = create_data_loader(batch_size)\n",
        "model_path = train(train_loader, val_loader, batch_size)"
      ],
      "metadata": {
        "id": "3o5hcTvp38PH"
      },
      "execution_count": null,
      "outputs": []
    },
    {
      "cell_type": "code",
      "source": [
        "# TODO: report test performance of best model\n",
        "test(model_path, test_loader)"
      ],
      "metadata": {
        "id": "qJylUa4Q4KXV"
      },
      "execution_count": null,
      "outputs": []
    }
  ]
}
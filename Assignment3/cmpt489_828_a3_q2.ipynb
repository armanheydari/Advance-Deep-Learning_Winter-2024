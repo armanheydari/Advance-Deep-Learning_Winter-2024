{
  "nbformat": 4,
  "nbformat_minor": 0,
  "metadata": {
    "colab": {
      "provenance": [],
      "gpuType": "T4",
      "include_colab_link": true
    },
    "kernelspec": {
      "name": "python3",
      "display_name": "Python 3"
    },
    "language_info": {
      "name": "python"
    },
    "accelerator": "GPU"
  },
  "cells": [
    {
      "cell_type": "markdown",
      "metadata": {
        "id": "view-in-github",
        "colab_type": "text"
      },
      "source": [
        "<a href=\"https://colab.research.google.com/github/armanheydari/Advance-Deep-Learning_Winter-2024/blob/main/Assignment3/cmpt489_828_a3_q2.ipynb\" target=\"_parent\"><img src=\"https://colab.research.google.com/assets/colab-badge.svg\" alt=\"Open In Colab\"/></a>"
      ]
    },
    {
      "cell_type": "markdown",
      "source": [
        "**CMPT 489/828 Assignment 3**\n",
        "\n",
        "Follow the instructions in this notebook and complete the missing code.\n",
        "\n",
        "**NOTE: Do Not Change Any Provided Code or Given Variable Names!**\n"
      ],
      "metadata": {
        "id": "HGh9xVJYL_e9"
      }
    },
    {
      "cell_type": "markdown",
      "source": [
        "Feel free to reuse any code from previous assignments.\n",
        "\n",
        "Use torch.nn module to implement your network.\n",
        "\n",
        "Use the validation set to find the best hyperparameters."
      ],
      "metadata": {
        "id": "0ryUY0YJ1Y7P"
      }
    },
    {
      "cell_type": "code",
      "source": [
        "# TODO: your imports\n",
        "import torch\n",
        "from torch import nn\n",
        "from torch.nn import functional as F\n",
        "import torchvision\n",
        "from torchvision import transforms\n",
        "import torchvision.models as models\n",
        "from torchvision.models import ResNet18_Weights\n",
        "\n",
        "# select gpu if possible\n",
        "device = torch.device(\"cuda:0\" if torch.cuda.is_available() else \"cpu\")\n",
        "print(device)"
      ],
      "metadata": {
        "id": "a7hjABHqp0XL",
        "colab": {
          "base_uri": "https://localhost:8080/"
        },
        "outputId": "28ba4a01-c982-4a66-aebd-944b8b26206e"
      },
      "execution_count": 13,
      "outputs": [
        {
          "output_type": "stream",
          "name": "stdout",
          "text": [
            "cuda:0\n"
          ]
        }
      ]
    },
    {
      "cell_type": "code",
      "source": [
        "def create_data_loader(batch_size):\n",
        "  # TODO: create your data loader, use entire CIFAR-10\n",
        "  # Split the provided CIFAR-10 train set (50,000 images) into your train and val sets\n",
        "  # Use the first 40,000 images as your train set and the remaining 10,000 images as val set\n",
        "  # Use all 10,000 images in the provided test set as your test set\n",
        "\n",
        "  train_id = list(range(40000))\n",
        "  val_id = list(range(40000, 50000))\n",
        "  test_id = list(range(10000))\n",
        "\n",
        "  # convert to tensor, normalize\n",
        "  transform = transforms.Compose([\n",
        "      transforms.ToTensor(),\n",
        "      transforms.Normalize((0.4914, 0.4822, 0.4465), (0.2470, 0.2435, 0.2616)),\n",
        "  ])\n",
        "  # load CIFAR-10 dataset with pytorch\n",
        "  trainset = torchvision.datasets.CIFAR10(root='./data', train=True, download=True, transform=transform)\n",
        "  testset = torchvision.datasets.CIFAR10(root='./data', train=False, download=True, transform=transform)\n",
        "\n",
        "  # subset dataset and create dataloader with batch_size\n",
        "  train_sub_set = torch.utils.data.Subset(trainset, train_id)\n",
        "  val_sub_set = torch.utils.data.Subset(trainset, val_id)\n",
        "  test_sub_set = torch.utils.data.Subset(testset, test_id)\n",
        "\n",
        "  train_loader = torch.utils.data.DataLoader(train_sub_set, batch_size=batch_size, shuffle=True)\n",
        "  val_loader = torch.utils.data.DataLoader(val_sub_set, batch_size=batch_size, shuffle=True)\n",
        "  test_loader = torch.utils.data.DataLoader(test_sub_set, batch_size=batch_size, shuffle=True)\n",
        "\n",
        "  return train_loader, val_loader, test_loader"
      ],
      "metadata": {
        "id": "VUlYcV55p9vo"
      },
      "execution_count": 14,
      "outputs": []
    },
    {
      "cell_type": "code",
      "source": [
        "class ResidualBlock(nn.Module):\n",
        "  # TODO: implement a residual block with skip connection\n",
        "  def __init__(self, in_channels, out_channels):\n",
        "    super(ResidualBlock, self).__init__()\n",
        "    self.stride = int(out_channels/in_channels)\n",
        "    self.conv1 = nn.Conv2d(in_channels, out_channels, kernel_size=(3, 3), stride=(self.stride, self.stride), padding=(1, 1), bias=False)\n",
        "    self.conv2 = nn.Conv2d(out_channels, out_channels, kernel_size=(3, 3), stride=(1, 1), padding=(1, 1), bias=False)\n",
        "    self.relu = nn.ReLU()\n",
        "    self.bn = nn.BatchNorm2d(out_channels, eps=1e-05, momentum=0.1, affine=True, track_running_stats=True)\n",
        "    self.downsample = None\n",
        "    if out_channels>in_channels:\n",
        "      self.downsample = nn.Sequential(nn.Conv2d(in_channels, out_channels, kernel_size=(1, 1), stride=(self.stride, self.stride), bias=False),\n",
        "                                     nn.BatchNorm2d(out_channels, eps=1e-05, momentum=0.1, affine=True, track_running_stats=True))\n",
        "\n",
        "  def forward(self, x):\n",
        "    residual_value = x.clone()\n",
        "    if self.downsample is not None:\n",
        "      residual_value = self.downsample(residual_value)\n",
        "    x = self.conv1(x)\n",
        "    x = self.bn(x)\n",
        "    x = self.relu(x)\n",
        "    x = self.conv2(x)\n",
        "    x = self.bn(x)\n",
        "    x = x + residual_value\n",
        "    return x"
      ],
      "metadata": {
        "id": "0qBMXckQsxVf"
      },
      "execution_count": 16,
      "outputs": []
    },
    {
      "cell_type": "code",
      "source": [
        "class ResNet(nn.Module):\n",
        "  # TODO: implement a ResNet with num_block residual blocks\n",
        "  def __init__(self, num_block):\n",
        "    super(ResNet, self).__init__()\n",
        "    self.conv1 = nn.Conv2d(3, 64, kernel_size=(7, 7), stride=(2, 2), padding=(3, 3), bias=False)\n",
        "    self.bn1 = nn.BatchNorm2d(64, eps=1e-05, momentum=0.1, affine=True, track_running_stats=True)\n",
        "    self.relu = nn.ReLU(inplace=True)\n",
        "    self.maxpool = nn.MaxPool2d(kernel_size=3, stride=2, padding=1, dilation=1, ceil_mode=False)\n",
        "    self.residual_blocks = nn.ModuleList()\n",
        "    for i in range(num_block):\n",
        "      out_channels = int(2**(6+i))\n",
        "      if i==0:\n",
        "        in_channels = out_channels\n",
        "      else:\n",
        "        in_channels = int(out_channels/2)\n",
        "      self.residual_blocks.append(nn.Sequential(ResidualBlock(in_channels, out_channels), ResidualBlock(out_channels, out_channels)))\n",
        "    self.avgpool = nn.AdaptiveAvgPool2d(output_size=(1, 1))\n",
        "    self.fc = nn.Linear(in_features=512, out_features=10, bias=True)\n",
        "\n",
        "  def forward(self, x):\n",
        "    x = self.conv1(x)\n",
        "    x = self.bn1(x)\n",
        "    x = self.relu(x)\n",
        "    x = self.maxpool(x)\n",
        "    for rb in self.residual_blocks:\n",
        "      x = rb(x)\n",
        "    x = self.avgpool(x)\n",
        "    x = torch.flatten(x, 1)  # Flatten the tensor\n",
        "    x = self.fc(x)\n",
        "    return x\n"
      ],
      "metadata": {
        "id": "tmx55UqDqklc"
      },
      "execution_count": 17,
      "outputs": []
    },
    {
      "cell_type": "code",
      "source": [
        "def init_train_var(model):\n",
        "  # TODO: create your criterion, optimizer (use SGD)\n",
        "  criterion = nn.CrossEntropyLoss()\n",
        "  optimizer = torch.optim.SGD(model.parameters())\n",
        "  return criterion, optimizer"
      ],
      "metadata": {
        "id": "8SDhH-fZrvvu"
      },
      "execution_count": 18,
      "outputs": []
    },
    {
      "cell_type": "code",
      "source": [
        "def train(train_loader, val_loader, batch_size):\n",
        "  # TODO: implement your training loop, save your best model at the end\n",
        "  model = ResNet(4)\n",
        "  model.to(device)\n",
        "  # print(model)\n",
        "  criterion, optimizer = init_train_var(model)\n",
        "\n",
        "  epochs = 100\n",
        "  val_accuracy = 0\n",
        "  for epoch in range(epochs):\n",
        "    model.train()\n",
        "    train_correct, val_correct = 0, 0\n",
        "    for x, y in train_loader:\n",
        "      x = x.to(device)\n",
        "      y = y.to(device)\n",
        "      optimizer.zero_grad()\n",
        "      prediction = model.forward(x)\n",
        "      loss = criterion(prediction, y)\n",
        "      loss.backward()\n",
        "      optimizer.step()\n",
        "      train_correct += (prediction.argmax(1) == y).type(torch.float).sum().item()\n",
        "\n",
        "    # switch off autograd for validation\n",
        "    with torch.no_grad():\n",
        "      # set the model in evaluation mode\n",
        "      model.eval()\n",
        "      for x, y in val_loader:\n",
        "        x = x.to(device)\n",
        "        y = y.to(device)\n",
        "        prediction = model.forward(x)\n",
        "        val_correct += (prediction.argmax(1) == y).type(torch.float).sum().item()\n",
        "    # calculate the training and validation accuracy\n",
        "    train_accuracy = train_correct / len(train_loader.dataset)\n",
        "    val_accuracy_new = val_correct / len(val_loader.dataset)\n",
        "    print(f'In epoch {epoch+1} the training accuracy is {train_accuracy} and the validation accuracy is {val_accuracy_new}')\n",
        "    if val_accuracy>val_accuracy_new and train_accuracy>0.95:\n",
        "      # Save entire model\n",
        "      model_path = 'Resnet18_Cifar10_Arman.pth'\n",
        "      torch.save(model, model_path)\n",
        "      break\n",
        "    val_accuracy = val_accuracy_new\n",
        "  return model_path"
      ],
      "metadata": {
        "id": "HzI9mvfJrA_1"
      },
      "execution_count": 22,
      "outputs": []
    },
    {
      "cell_type": "code",
      "source": [
        "def test(model_path, test_loader):\n",
        "  # TODO: test function for your trained model , load your best model\n",
        "  model = torch.load(model_path)\n",
        "  # switch off autograd for validation\n",
        "  with torch.no_grad():\n",
        "    # set the model in evaluation mode\n",
        "    model.eval()\n",
        "    test_correct = 0\n",
        "    for x, y in test_loader:\n",
        "      x = x.to(device)\n",
        "      y = y.to(device)\n",
        "      prediction = model.forward(x)\n",
        "      test_correct += (prediction.argmax(1) == y).type(torch.float).sum().item()\n",
        "  # calculate the training and validation accuracy\n",
        "  test_accuracy = test_correct / len(test_loader.dataset)\n",
        "  print(f\"model's test accuracy is {test_accuracy}\")"
      ],
      "metadata": {
        "id": "u_lAiVjVreOO"
      },
      "execution_count": 20,
      "outputs": []
    },
    {
      "cell_type": "code",
      "source": [
        "# This is to check the model archtecture\n",
        "print(\"True Resnet:\")\n",
        "print(models.resnet18(weights=ResNet18_Weights.IMAGENET1K_V1))\n",
        "print(\"\\n----------------------------------------------------------------------\\n\")\n",
        "print(\"Implemented model:\")\n",
        "print(ResNet(4))"
      ],
      "metadata": {
        "colab": {
          "base_uri": "https://localhost:8080/"
        },
        "id": "Tww8MwZIGuwB",
        "outputId": "fb34667e-8fe9-407d-b997-2a847494634a"
      },
      "execution_count": 23,
      "outputs": [
        {
          "output_type": "stream",
          "name": "stdout",
          "text": [
            "True Resnet:\n",
            "ResNet(\n",
            "  (conv1): Conv2d(3, 64, kernel_size=(7, 7), stride=(2, 2), padding=(3, 3), bias=False)\n",
            "  (bn1): BatchNorm2d(64, eps=1e-05, momentum=0.1, affine=True, track_running_stats=True)\n",
            "  (relu): ReLU(inplace=True)\n",
            "  (maxpool): MaxPool2d(kernel_size=3, stride=2, padding=1, dilation=1, ceil_mode=False)\n",
            "  (layer1): Sequential(\n",
            "    (0): BasicBlock(\n",
            "      (conv1): Conv2d(64, 64, kernel_size=(3, 3), stride=(1, 1), padding=(1, 1), bias=False)\n",
            "      (bn1): BatchNorm2d(64, eps=1e-05, momentum=0.1, affine=True, track_running_stats=True)\n",
            "      (relu): ReLU(inplace=True)\n",
            "      (conv2): Conv2d(64, 64, kernel_size=(3, 3), stride=(1, 1), padding=(1, 1), bias=False)\n",
            "      (bn2): BatchNorm2d(64, eps=1e-05, momentum=0.1, affine=True, track_running_stats=True)\n",
            "    )\n",
            "    (1): BasicBlock(\n",
            "      (conv1): Conv2d(64, 64, kernel_size=(3, 3), stride=(1, 1), padding=(1, 1), bias=False)\n",
            "      (bn1): BatchNorm2d(64, eps=1e-05, momentum=0.1, affine=True, track_running_stats=True)\n",
            "      (relu): ReLU(inplace=True)\n",
            "      (conv2): Conv2d(64, 64, kernel_size=(3, 3), stride=(1, 1), padding=(1, 1), bias=False)\n",
            "      (bn2): BatchNorm2d(64, eps=1e-05, momentum=0.1, affine=True, track_running_stats=True)\n",
            "    )\n",
            "  )\n",
            "  (layer2): Sequential(\n",
            "    (0): BasicBlock(\n",
            "      (conv1): Conv2d(64, 128, kernel_size=(3, 3), stride=(2, 2), padding=(1, 1), bias=False)\n",
            "      (bn1): BatchNorm2d(128, eps=1e-05, momentum=0.1, affine=True, track_running_stats=True)\n",
            "      (relu): ReLU(inplace=True)\n",
            "      (conv2): Conv2d(128, 128, kernel_size=(3, 3), stride=(1, 1), padding=(1, 1), bias=False)\n",
            "      (bn2): BatchNorm2d(128, eps=1e-05, momentum=0.1, affine=True, track_running_stats=True)\n",
            "      (downsample): Sequential(\n",
            "        (0): Conv2d(64, 128, kernel_size=(1, 1), stride=(2, 2), bias=False)\n",
            "        (1): BatchNorm2d(128, eps=1e-05, momentum=0.1, affine=True, track_running_stats=True)\n",
            "      )\n",
            "    )\n",
            "    (1): BasicBlock(\n",
            "      (conv1): Conv2d(128, 128, kernel_size=(3, 3), stride=(1, 1), padding=(1, 1), bias=False)\n",
            "      (bn1): BatchNorm2d(128, eps=1e-05, momentum=0.1, affine=True, track_running_stats=True)\n",
            "      (relu): ReLU(inplace=True)\n",
            "      (conv2): Conv2d(128, 128, kernel_size=(3, 3), stride=(1, 1), padding=(1, 1), bias=False)\n",
            "      (bn2): BatchNorm2d(128, eps=1e-05, momentum=0.1, affine=True, track_running_stats=True)\n",
            "    )\n",
            "  )\n",
            "  (layer3): Sequential(\n",
            "    (0): BasicBlock(\n",
            "      (conv1): Conv2d(128, 256, kernel_size=(3, 3), stride=(2, 2), padding=(1, 1), bias=False)\n",
            "      (bn1): BatchNorm2d(256, eps=1e-05, momentum=0.1, affine=True, track_running_stats=True)\n",
            "      (relu): ReLU(inplace=True)\n",
            "      (conv2): Conv2d(256, 256, kernel_size=(3, 3), stride=(1, 1), padding=(1, 1), bias=False)\n",
            "      (bn2): BatchNorm2d(256, eps=1e-05, momentum=0.1, affine=True, track_running_stats=True)\n",
            "      (downsample): Sequential(\n",
            "        (0): Conv2d(128, 256, kernel_size=(1, 1), stride=(2, 2), bias=False)\n",
            "        (1): BatchNorm2d(256, eps=1e-05, momentum=0.1, affine=True, track_running_stats=True)\n",
            "      )\n",
            "    )\n",
            "    (1): BasicBlock(\n",
            "      (conv1): Conv2d(256, 256, kernel_size=(3, 3), stride=(1, 1), padding=(1, 1), bias=False)\n",
            "      (bn1): BatchNorm2d(256, eps=1e-05, momentum=0.1, affine=True, track_running_stats=True)\n",
            "      (relu): ReLU(inplace=True)\n",
            "      (conv2): Conv2d(256, 256, kernel_size=(3, 3), stride=(1, 1), padding=(1, 1), bias=False)\n",
            "      (bn2): BatchNorm2d(256, eps=1e-05, momentum=0.1, affine=True, track_running_stats=True)\n",
            "    )\n",
            "  )\n",
            "  (layer4): Sequential(\n",
            "    (0): BasicBlock(\n",
            "      (conv1): Conv2d(256, 512, kernel_size=(3, 3), stride=(2, 2), padding=(1, 1), bias=False)\n",
            "      (bn1): BatchNorm2d(512, eps=1e-05, momentum=0.1, affine=True, track_running_stats=True)\n",
            "      (relu): ReLU(inplace=True)\n",
            "      (conv2): Conv2d(512, 512, kernel_size=(3, 3), stride=(1, 1), padding=(1, 1), bias=False)\n",
            "      (bn2): BatchNorm2d(512, eps=1e-05, momentum=0.1, affine=True, track_running_stats=True)\n",
            "      (downsample): Sequential(\n",
            "        (0): Conv2d(256, 512, kernel_size=(1, 1), stride=(2, 2), bias=False)\n",
            "        (1): BatchNorm2d(512, eps=1e-05, momentum=0.1, affine=True, track_running_stats=True)\n",
            "      )\n",
            "    )\n",
            "    (1): BasicBlock(\n",
            "      (conv1): Conv2d(512, 512, kernel_size=(3, 3), stride=(1, 1), padding=(1, 1), bias=False)\n",
            "      (bn1): BatchNorm2d(512, eps=1e-05, momentum=0.1, affine=True, track_running_stats=True)\n",
            "      (relu): ReLU(inplace=True)\n",
            "      (conv2): Conv2d(512, 512, kernel_size=(3, 3), stride=(1, 1), padding=(1, 1), bias=False)\n",
            "      (bn2): BatchNorm2d(512, eps=1e-05, momentum=0.1, affine=True, track_running_stats=True)\n",
            "    )\n",
            "  )\n",
            "  (avgpool): AdaptiveAvgPool2d(output_size=(1, 1))\n",
            "  (fc): Linear(in_features=512, out_features=1000, bias=True)\n",
            ")\n",
            "\n",
            "----------------------------------------------------------------------\n",
            "\n",
            "Implemented model:\n",
            "ResNet(\n",
            "  (conv1): Conv2d(3, 64, kernel_size=(7, 7), stride=(2, 2), padding=(3, 3), bias=False)\n",
            "  (bn1): BatchNorm2d(64, eps=1e-05, momentum=0.1, affine=True, track_running_stats=True)\n",
            "  (relu): ReLU(inplace=True)\n",
            "  (maxpool): MaxPool2d(kernel_size=3, stride=2, padding=1, dilation=1, ceil_mode=False)\n",
            "  (residual_blocks): ModuleList(\n",
            "    (0): Sequential(\n",
            "      (0): ResidualBlock(\n",
            "        (conv1): Conv2d(64, 64, kernel_size=(3, 3), stride=(1, 1), padding=(1, 1), bias=False)\n",
            "        (conv2): Conv2d(64, 64, kernel_size=(3, 3), stride=(1, 1), padding=(1, 1), bias=False)\n",
            "        (relu): ReLU()\n",
            "        (bn): BatchNorm2d(64, eps=1e-05, momentum=0.1, affine=True, track_running_stats=True)\n",
            "      )\n",
            "      (1): ResidualBlock(\n",
            "        (conv1): Conv2d(64, 64, kernel_size=(3, 3), stride=(1, 1), padding=(1, 1), bias=False)\n",
            "        (conv2): Conv2d(64, 64, kernel_size=(3, 3), stride=(1, 1), padding=(1, 1), bias=False)\n",
            "        (relu): ReLU()\n",
            "        (bn): BatchNorm2d(64, eps=1e-05, momentum=0.1, affine=True, track_running_stats=True)\n",
            "      )\n",
            "    )\n",
            "    (1): Sequential(\n",
            "      (0): ResidualBlock(\n",
            "        (conv1): Conv2d(64, 128, kernel_size=(3, 3), stride=(2, 2), padding=(1, 1), bias=False)\n",
            "        (conv2): Conv2d(128, 128, kernel_size=(3, 3), stride=(1, 1), padding=(1, 1), bias=False)\n",
            "        (relu): ReLU()\n",
            "        (bn): BatchNorm2d(128, eps=1e-05, momentum=0.1, affine=True, track_running_stats=True)\n",
            "        (downsample): Sequential(\n",
            "          (0): Conv2d(64, 128, kernel_size=(1, 1), stride=(2, 2), bias=False)\n",
            "          (1): BatchNorm2d(128, eps=1e-05, momentum=0.1, affine=True, track_running_stats=True)\n",
            "        )\n",
            "      )\n",
            "      (1): ResidualBlock(\n",
            "        (conv1): Conv2d(128, 128, kernel_size=(3, 3), stride=(1, 1), padding=(1, 1), bias=False)\n",
            "        (conv2): Conv2d(128, 128, kernel_size=(3, 3), stride=(1, 1), padding=(1, 1), bias=False)\n",
            "        (relu): ReLU()\n",
            "        (bn): BatchNorm2d(128, eps=1e-05, momentum=0.1, affine=True, track_running_stats=True)\n",
            "      )\n",
            "    )\n",
            "    (2): Sequential(\n",
            "      (0): ResidualBlock(\n",
            "        (conv1): Conv2d(128, 256, kernel_size=(3, 3), stride=(2, 2), padding=(1, 1), bias=False)\n",
            "        (conv2): Conv2d(256, 256, kernel_size=(3, 3), stride=(1, 1), padding=(1, 1), bias=False)\n",
            "        (relu): ReLU()\n",
            "        (bn): BatchNorm2d(256, eps=1e-05, momentum=0.1, affine=True, track_running_stats=True)\n",
            "        (downsample): Sequential(\n",
            "          (0): Conv2d(128, 256, kernel_size=(1, 1), stride=(2, 2), bias=False)\n",
            "          (1): BatchNorm2d(256, eps=1e-05, momentum=0.1, affine=True, track_running_stats=True)\n",
            "        )\n",
            "      )\n",
            "      (1): ResidualBlock(\n",
            "        (conv1): Conv2d(256, 256, kernel_size=(3, 3), stride=(1, 1), padding=(1, 1), bias=False)\n",
            "        (conv2): Conv2d(256, 256, kernel_size=(3, 3), stride=(1, 1), padding=(1, 1), bias=False)\n",
            "        (relu): ReLU()\n",
            "        (bn): BatchNorm2d(256, eps=1e-05, momentum=0.1, affine=True, track_running_stats=True)\n",
            "      )\n",
            "    )\n",
            "    (3): Sequential(\n",
            "      (0): ResidualBlock(\n",
            "        (conv1): Conv2d(256, 512, kernel_size=(3, 3), stride=(2, 2), padding=(1, 1), bias=False)\n",
            "        (conv2): Conv2d(512, 512, kernel_size=(3, 3), stride=(1, 1), padding=(1, 1), bias=False)\n",
            "        (relu): ReLU()\n",
            "        (bn): BatchNorm2d(512, eps=1e-05, momentum=0.1, affine=True, track_running_stats=True)\n",
            "        (downsample): Sequential(\n",
            "          (0): Conv2d(256, 512, kernel_size=(1, 1), stride=(2, 2), bias=False)\n",
            "          (1): BatchNorm2d(512, eps=1e-05, momentum=0.1, affine=True, track_running_stats=True)\n",
            "        )\n",
            "      )\n",
            "      (1): ResidualBlock(\n",
            "        (conv1): Conv2d(512, 512, kernel_size=(3, 3), stride=(1, 1), padding=(1, 1), bias=False)\n",
            "        (conv2): Conv2d(512, 512, kernel_size=(3, 3), stride=(1, 1), padding=(1, 1), bias=False)\n",
            "        (relu): ReLU()\n",
            "        (bn): BatchNorm2d(512, eps=1e-05, momentum=0.1, affine=True, track_running_stats=True)\n",
            "      )\n",
            "    )\n",
            "  )\n",
            "  (avgpool): AdaptiveAvgPool2d(output_size=(1, 1))\n",
            "  (fc): Linear(in_features=512, out_features=10, bias=True)\n",
            ")\n"
          ]
        }
      ]
    },
    {
      "cell_type": "code",
      "source": [
        "# TODO: train your model and save the best model\n",
        "batch_size = 100\n",
        "train_loader, val_loader, test_loader = create_data_loader(batch_size)\n",
        "model_path = train(train_loader, val_loader, batch_size)"
      ],
      "metadata": {
        "id": "3o5hcTvp38PH",
        "colab": {
          "base_uri": "https://localhost:8080/"
        },
        "outputId": "f56aeb10-e003-4c3a-dba8-2ab6d0d85297"
      },
      "execution_count": 24,
      "outputs": [
        {
          "output_type": "stream",
          "name": "stdout",
          "text": [
            "Files already downloaded and verified\n",
            "Files already downloaded and verified\n",
            "In epoch 1 the training accuracy is 0.44345 and the validation accuracy is 0.2721\n",
            "In epoch 2 the training accuracy is 0.5778 and the validation accuracy is 0.2863\n",
            "In epoch 3 the training accuracy is 0.642925 and the validation accuracy is 0.3215\n",
            "In epoch 4 the training accuracy is 0.6967 and the validation accuracy is 0.3067\n",
            "In epoch 5 the training accuracy is 0.7494 and the validation accuracy is 0.3135\n",
            "In epoch 6 the training accuracy is 0.79745 and the validation accuracy is 0.3267\n",
            "In epoch 7 the training accuracy is 0.845 and the validation accuracy is 0.2852\n",
            "In epoch 8 the training accuracy is 0.8923 and the validation accuracy is 0.2955\n",
            "In epoch 9 the training accuracy is 0.927625 and the validation accuracy is 0.3148\n",
            "In epoch 10 the training accuracy is 0.95755 and the validation accuracy is 0.3074\n"
          ]
        }
      ]
    },
    {
      "cell_type": "code",
      "source": [
        "# TODO: report test performance of best model\n",
        "test(model_path, test_loader)"
      ],
      "metadata": {
        "id": "qJylUa4Q4KXV",
        "colab": {
          "base_uri": "https://localhost:8080/"
        },
        "outputId": "b3829816-058d-4397-8c3b-4ad4567858bd"
      },
      "execution_count": 25,
      "outputs": [
        {
          "output_type": "stream",
          "name": "stdout",
          "text": [
            "model's test accuracy is 0.3093\n"
          ]
        }
      ]
    }
  ]
}